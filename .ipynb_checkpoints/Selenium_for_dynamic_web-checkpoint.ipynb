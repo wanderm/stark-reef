{
 "cells": [
  {
   "cell_type": "code",
   "execution_count": 6,
   "metadata": {},
   "outputs": [],
   "source": [
    "from selenium import webdriver\n",
    "\n",
    "from selenium.webdriver.support.ui import WebDriverWait\n",
    "from selenium.webdriver.support import expected_conditions as EC\n",
    "from selenium.webdriver.common.by import By"
   ]
  },
  {
   "cell_type": "code",
   "execution_count": 42,
   "metadata": {},
   "outputs": [],
   "source": [
    "driver = webdriver.Chrome()\n",
    "#direct the driver to open a webpage by calling the ‘get’ method, with a parameter of the page we want to visit.\n",
    "driver.get(\"https://coronavirus.1point3acres.com/en\")\n",
    "# click radio button\n",
    "python_button = driver.find_element(By.XPATH, \"//span[text()='Canada']\")\n",
    "python_button.click()\n",
    "# Wait for the dynamically loaded elements to show up\n",
    "WebDriverWait(driver, 10).until(\n",
    "    EC.visibility_of_element_located((By.CLASS_NAME, \"jsx-3706651781\")))\n",
    "# And grab the page HTML source\n",
    "html_page = driver.page_source\n",
    "driver.quit()"
   ]
  },
  {
   "cell_type": "code",
   "execution_count": 46,
   "metadata": {},
   "outputs": [],
   "source": [
    "# Now you can use html_page as you like\n",
    "from bs4 import BeautifulSoup\n",
    "soup = BeautifulSoup(html_page)"
   ]
  },
  {
   "cell_type": "code",
   "execution_count": 47,
   "metadata": {},
   "outputs": [
    {
     "data": {
      "text/plain": [
       "[<span class=\"jsx-3706651781\">Location</span>,\n",
       " <span class=\"jsx-3706651781\">Confirmed</span>,\n",
       " <span class=\"jsx-3706651781\">Deaths</span>,\n",
       " <span class=\"jsx-3706651781\">Fatality rate</span>,\n",
       " <span class=\"jsx-3706651781\">Source</span>,\n",
       " <span class=\"jsx-3706651781\">Canada</span>,\n",
       " <span class=\"jsx-3706651781\">3404</span>,\n",
       " <span class=\"jsx-3706651781\">35</span>,\n",
       " <span class=\"jsx-3706651781\">1%</span>,\n",
       " <span class=\"jsx-3706651781\"><a class=\"jsx-3706651781\" href=\"https://www.canada.ca/en/public-health/services/diseases/2019-novel-coronavirus-infection.html?topic=tilelink\" target=\"_blank\">PHA</a></span>,\n",
       " <span class=\"jsx-3706651781\">Quebec<a class=\"jsx-3706651781\" href=\"/en/test?state=QC\" target=\"_blank\"><i aria-label=\"icon: experiment\" class=\"anticon anticon-experiment\"><svg aria-hidden=\"true\" class=\"\" data-icon=\"experiment\" fill=\"currentColor\" focusable=\"false\" height=\"1em\" viewbox=\"64 64 896 896\" width=\"1em\"><path d=\"M512 472a40 40 0 1 0 80 0 40 40 0 1 0-80 0zm367 352.9L696.3 352V178H768v-68H256v68h71.7v174L145 824.9c-2.8 7.4-4.3 15.2-4.3 23.1 0 35.3 28.7 64 64 64h614.6c7.9 0 15.7-1.5 23.1-4.3 33-12.7 49.4-49.8 36.6-82.8zM395.7 364.7V180h232.6v184.7L719.2 600c-20.7-5.3-42.1-8-63.9-8-61.2 0-119.2 21.5-165.3 60a188.78 188.78 0 0 1-121.3 43.9c-32.7 0-64.1-8.3-91.8-23.7l118.8-307.5zM210.5 844l41.7-107.8c35.7 18.1 75.4 27.8 116.6 27.8 61.2 0 119.2-21.5 165.3-60 33.9-28.2 76.3-43.9 121.3-43.9 35 0 68.4 9.5 97.6 27.1L813.5 844h-603z\"></path></svg></i></a></span>,\n",
       " <span class=\"jsx-3706651781\">1342</span>,\n",
       " <span class=\"jsx-3706651781\">6</span>,\n",
       " <span class=\"jsx-3706651781\">0.4%</span>,\n",
       " <span class=\"jsx-3706651781\"><div class=\"jsx-3706651781 reference-button-container\"></div><div class=\"jsx-3706651781 reference-button-container\"></div></span>,\n",
       " <span class=\"jsx-3706651781\">Ontario<a class=\"jsx-3706651781\" href=\"/en/test?state=ON\" target=\"_blank\"><i aria-label=\"icon: experiment\" class=\"anticon anticon-experiment\"><svg aria-hidden=\"true\" class=\"\" data-icon=\"experiment\" fill=\"currentColor\" focusable=\"false\" height=\"1em\" viewbox=\"64 64 896 896\" width=\"1em\"><path d=\"M512 472a40 40 0 1 0 80 0 40 40 0 1 0-80 0zm367 352.9L696.3 352V178H768v-68H256v68h71.7v174L145 824.9c-2.8 7.4-4.3 15.2-4.3 23.1 0 35.3 28.7 64 64 64h614.6c7.9 0 15.7-1.5 23.1-4.3 33-12.7 49.4-49.8 36.6-82.8zM395.7 364.7V180h232.6v184.7L719.2 600c-20.7-5.3-42.1-8-63.9-8-61.2 0-119.2 21.5-165.3 60a188.78 188.78 0 0 1-121.3 43.9c-32.7 0-64.1-8.3-91.8-23.7l118.8-307.5zM210.5 844l41.7-107.8c35.7 18.1 75.4 27.8 116.6 27.8 61.2 0 119.2-21.5 165.3-60 33.9-28.2 76.3-43.9 121.3-43.9 35 0 68.4 9.5 97.6 27.1L813.5 844h-603z\"></path></svg></i></a></span>,\n",
       " <span class=\"jsx-3706651781\">688</span>,\n",
       " <span class=\"jsx-3706651781\">12</span>,\n",
       " <span class=\"jsx-3706651781\">1.7%</span>,\n",
       " <span class=\"jsx-3706651781\"><div class=\"jsx-3706651781 reference-button-container\"></div><div class=\"jsx-3706651781 reference-button-container\"></div></span>,\n",
       " <span class=\"jsx-3706651781\">British Columbia<a class=\"jsx-3706651781\" href=\"/en/test?state=BC\" target=\"_blank\"><i aria-label=\"icon: experiment\" class=\"anticon anticon-experiment\"><svg aria-hidden=\"true\" class=\"\" data-icon=\"experiment\" fill=\"currentColor\" focusable=\"false\" height=\"1em\" viewbox=\"64 64 896 896\" width=\"1em\"><path d=\"M512 472a40 40 0 1 0 80 0 40 40 0 1 0-80 0zm367 352.9L696.3 352V178H768v-68H256v68h71.7v174L145 824.9c-2.8 7.4-4.3 15.2-4.3 23.1 0 35.3 28.7 64 64 64h614.6c7.9 0 15.7-1.5 23.1-4.3 33-12.7 49.4-49.8 36.6-82.8zM395.7 364.7V180h232.6v184.7L719.2 600c-20.7-5.3-42.1-8-63.9-8-61.2 0-119.2 21.5-165.3 60a188.78 188.78 0 0 1-121.3 43.9c-32.7 0-64.1-8.3-91.8-23.7l118.8-307.5zM210.5 844l41.7-107.8c35.7 18.1 75.4 27.8 116.6 27.8 61.2 0 119.2-21.5 165.3-60 33.9-28.2 76.3-43.9 121.3-43.9 35 0 68.4 9.5 97.6 27.1L813.5 844h-603z\"></path></svg></i></a></span>,\n",
       " <span class=\"jsx-3706651781\">659</span>,\n",
       " <span class=\"jsx-3706651781\">14</span>,\n",
       " <span class=\"jsx-3706651781\">2.1%</span>,\n",
       " <span class=\"jsx-3706651781\"><div class=\"jsx-3706651781 reference-button-container\"></div><div class=\"jsx-3706651781 reference-button-container\"></div></span>,\n",
       " <span class=\"jsx-3706651781\">Alberta<a class=\"jsx-3706651781\" href=\"/en/test?state=AB\" target=\"_blank\"><i aria-label=\"icon: experiment\" class=\"anticon anticon-experiment\"><svg aria-hidden=\"true\" class=\"\" data-icon=\"experiment\" fill=\"currentColor\" focusable=\"false\" height=\"1em\" viewbox=\"64 64 896 896\" width=\"1em\"><path d=\"M512 472a40 40 0 1 0 80 0 40 40 0 1 0-80 0zm367 352.9L696.3 352V178H768v-68H256v68h71.7v174L145 824.9c-2.8 7.4-4.3 15.2-4.3 23.1 0 35.3 28.7 64 64 64h614.6c7.9 0 15.7-1.5 23.1-4.3 33-12.7 49.4-49.8 36.6-82.8zM395.7 364.7V180h232.6v184.7L719.2 600c-20.7-5.3-42.1-8-63.9-8-61.2 0-119.2 21.5-165.3 60a188.78 188.78 0 0 1-121.3 43.9c-32.7 0-64.1-8.3-91.8-23.7l118.8-307.5zM210.5 844l41.7-107.8c35.7 18.1 75.4 27.8 116.6 27.8 61.2 0 119.2-21.5 165.3-60 33.9-28.2 76.3-43.9 121.3-43.9 35 0 68.4 9.5 97.6 27.1L813.5 844h-603z\"></path></svg></i></a></span>,\n",
       " <span class=\"jsx-3706651781\">419</span>,\n",
       " <span class=\"jsx-3706651781\">2</span>,\n",
       " <span class=\"jsx-3706651781\">0.5%</span>,\n",
       " <span class=\"jsx-3706651781\"><div class=\"jsx-3706651781 reference-button-container\"></div><div class=\"jsx-3706651781 reference-button-container\"></div></span>,\n",
       " <span class=\"jsx-3706651781\">Saskatchewan<a class=\"jsx-3706651781\" href=\"/en/test?state=SK\" target=\"_blank\"><i aria-label=\"icon: experiment\" class=\"anticon anticon-experiment\"><svg aria-hidden=\"true\" class=\"\" data-icon=\"experiment\" fill=\"currentColor\" focusable=\"false\" height=\"1em\" viewbox=\"64 64 896 896\" width=\"1em\"><path d=\"M512 472a40 40 0 1 0 80 0 40 40 0 1 0-80 0zm367 352.9L696.3 352V178H768v-68H256v68h71.7v174L145 824.9c-2.8 7.4-4.3 15.2-4.3 23.1 0 35.3 28.7 64 64 64h614.6c7.9 0 15.7-1.5 23.1-4.3 33-12.7 49.4-49.8 36.6-82.8zM395.7 364.7V180h232.6v184.7L719.2 600c-20.7-5.3-42.1-8-63.9-8-61.2 0-119.2 21.5-165.3 60a188.78 188.78 0 0 1-121.3 43.9c-32.7 0-64.1-8.3-91.8-23.7l118.8-307.5zM210.5 844l41.7-107.8c35.7 18.1 75.4 27.8 116.6 27.8 61.2 0 119.2-21.5 165.3-60 33.9-28.2 76.3-43.9 121.3-43.9 35 0 68.4 9.5 97.6 27.1L813.5 844h-603z\"></path></svg></i></a></span>,\n",
       " <span class=\"jsx-3706651781\">86</span>,\n",
       " <span class=\"jsx-3706651781\">0</span>,\n",
       " <span class=\"jsx-3706651781\">0%</span>,\n",
       " <span class=\"jsx-3706651781\"><div class=\"jsx-3706651781 reference-button-container\"></div><div class=\"jsx-3706651781 reference-button-container\"></div></span>,\n",
       " <span class=\"jsx-3706651781\"> Nova Scotia<a class=\"jsx-3706651781\" href=\"/en/test?state=NS\" target=\"_blank\"><i aria-label=\"icon: experiment\" class=\"anticon anticon-experiment\"><svg aria-hidden=\"true\" class=\"\" data-icon=\"experiment\" fill=\"currentColor\" focusable=\"false\" height=\"1em\" viewbox=\"64 64 896 896\" width=\"1em\"><path d=\"M512 472a40 40 0 1 0 80 0 40 40 0 1 0-80 0zm367 352.9L696.3 352V178H768v-68H256v68h71.7v174L145 824.9c-2.8 7.4-4.3 15.2-4.3 23.1 0 35.3 28.7 64 64 64h614.6c7.9 0 15.7-1.5 23.1-4.3 33-12.7 49.4-49.8 36.6-82.8zM395.7 364.7V180h232.6v184.7L719.2 600c-20.7-5.3-42.1-8-63.9-8-61.2 0-119.2 21.5-165.3 60a188.78 188.78 0 0 1-121.3 43.9c-32.7 0-64.1-8.3-91.8-23.7l118.8-307.5zM210.5 844l41.7-107.8c35.7 18.1 75.4 27.8 116.6 27.8 61.2 0 119.2-21.5 165.3-60 33.9-28.2 76.3-43.9 121.3-43.9 35 0 68.4 9.5 97.6 27.1L813.5 844h-603z\"></path></svg></i></a></span>,\n",
       " <span class=\"jsx-3706651781\">68</span>,\n",
       " <span class=\"jsx-3706651781\">0</span>,\n",
       " <span class=\"jsx-3706651781\">0%</span>,\n",
       " <span class=\"jsx-3706651781\"><div class=\"jsx-3706651781 reference-button-container\"></div><div class=\"jsx-3706651781 reference-button-container\"></div></span>,\n",
       " <span class=\"jsx-3706651781\">Newfoundland and Labrador<a class=\"jsx-3706651781\" href=\"/en/test?state=NL\" target=\"_blank\"><i aria-label=\"icon: experiment\" class=\"anticon anticon-experiment\"><svg aria-hidden=\"true\" class=\"\" data-icon=\"experiment\" fill=\"currentColor\" focusable=\"false\" height=\"1em\" viewbox=\"64 64 896 896\" width=\"1em\"><path d=\"M512 472a40 40 0 1 0 80 0 40 40 0 1 0-80 0zm367 352.9L696.3 352V178H768v-68H256v68h71.7v174L145 824.9c-2.8 7.4-4.3 15.2-4.3 23.1 0 35.3 28.7 64 64 64h614.6c7.9 0 15.7-1.5 23.1-4.3 33-12.7 49.4-49.8 36.6-82.8zM395.7 364.7V180h232.6v184.7L719.2 600c-20.7-5.3-42.1-8-63.9-8-61.2 0-119.2 21.5-165.3 60a188.78 188.78 0 0 1-121.3 43.9c-32.7 0-64.1-8.3-91.8-23.7l118.8-307.5zM210.5 844l41.7-107.8c35.7 18.1 75.4 27.8 116.6 27.8 61.2 0 119.2-21.5 165.3-60 33.9-28.2 76.3-43.9 121.3-43.9 35 0 68.4 9.5 97.6 27.1L813.5 844h-603z\"></path></svg></i></a></span>,\n",
       " <span class=\"jsx-3706651781\">67</span>,\n",
       " <span class=\"jsx-3706651781\">0</span>,\n",
       " <span class=\"jsx-3706651781\">0%</span>,\n",
       " <span class=\"jsx-3706651781\"><div class=\"jsx-3706651781 reference-button-container\"></div><div class=\"jsx-3706651781 reference-button-container\"></div></span>,\n",
       " <span class=\"jsx-3706651781\">Manitoba<a class=\"jsx-3706651781\" href=\"/en/test?state=MB\" target=\"_blank\"><i aria-label=\"icon: experiment\" class=\"anticon anticon-experiment\"><svg aria-hidden=\"true\" class=\"\" data-icon=\"experiment\" fill=\"currentColor\" focusable=\"false\" height=\"1em\" viewbox=\"64 64 896 896\" width=\"1em\"><path d=\"M512 472a40 40 0 1 0 80 0 40 40 0 1 0-80 0zm367 352.9L696.3 352V178H768v-68H256v68h71.7v174L145 824.9c-2.8 7.4-4.3 15.2-4.3 23.1 0 35.3 28.7 64 64 64h614.6c7.9 0 15.7-1.5 23.1-4.3 33-12.7 49.4-49.8 36.6-82.8zM395.7 364.7V180h232.6v184.7L719.2 600c-20.7-5.3-42.1-8-63.9-8-61.2 0-119.2 21.5-165.3 60a188.78 188.78 0 0 1-121.3 43.9c-32.7 0-64.1-8.3-91.8-23.7l118.8-307.5zM210.5 844l41.7-107.8c35.7 18.1 75.4 27.8 116.6 27.8 61.2 0 119.2-21.5 165.3-60 33.9-28.2 76.3-43.9 121.3-43.9 35 0 68.4 9.5 97.6 27.1L813.5 844h-603z\"></path></svg></i></a></span>,\n",
       " <span class=\"jsx-3706651781\">35</span>,\n",
       " <span class=\"jsx-3706651781\">0</span>,\n",
       " <span class=\"jsx-3706651781\">0%</span>,\n",
       " <span class=\"jsx-3706651781\"><div class=\"jsx-3706651781 reference-button-container\"></div><div class=\"jsx-3706651781 reference-button-container\"></div></span>,\n",
       " <span class=\"jsx-3706651781\">New Brunswick<a class=\"jsx-3706651781\" href=\"/en/test?state=NB\" target=\"_blank\"><i aria-label=\"icon: experiment\" class=\"anticon anticon-experiment\"><svg aria-hidden=\"true\" class=\"\" data-icon=\"experiment\" fill=\"currentColor\" focusable=\"false\" height=\"1em\" viewbox=\"64 64 896 896\" width=\"1em\"><path d=\"M512 472a40 40 0 1 0 80 0 40 40 0 1 0-80 0zm367 352.9L696.3 352V178H768v-68H256v68h71.7v174L145 824.9c-2.8 7.4-4.3 15.2-4.3 23.1 0 35.3 28.7 64 64 64h614.6c7.9 0 15.7-1.5 23.1-4.3 33-12.7 49.4-49.8 36.6-82.8zM395.7 364.7V180h232.6v184.7L719.2 600c-20.7-5.3-42.1-8-63.9-8-61.2 0-119.2 21.5-165.3 60a188.78 188.78 0 0 1-121.3 43.9c-32.7 0-64.1-8.3-91.8-23.7l118.8-307.5zM210.5 844l41.7-107.8c35.7 18.1 75.4 27.8 116.6 27.8 61.2 0 119.2-21.5 165.3-60 33.9-28.2 76.3-43.9 121.3-43.9 35 0 68.4 9.5 97.6 27.1L813.5 844h-603z\"></path></svg></i></a></span>,\n",
       " <span class=\"jsx-3706651781\">18</span>,\n",
       " <span class=\"jsx-3706651781\">0</span>,\n",
       " <span class=\"jsx-3706651781\">0%</span>,\n",
       " <span class=\"jsx-3706651781\"><div class=\"jsx-3706651781 reference-button-container\"></div><div class=\"jsx-3706651781 reference-button-container\"></div></span>,\n",
       " <span class=\"jsx-3706651781\">Grand Princess<a class=\"jsx-3706651781\" href=\"/en/test?state=Grand Princess\" target=\"_blank\"><i aria-label=\"icon: experiment\" class=\"anticon anticon-experiment\"><svg aria-hidden=\"true\" class=\"\" data-icon=\"experiment\" fill=\"currentColor\" focusable=\"false\" height=\"1em\" viewbox=\"64 64 896 896\" width=\"1em\"><path d=\"M512 472a40 40 0 1 0 80 0 40 40 0 1 0-80 0zm367 352.9L696.3 352V178H768v-68H256v68h71.7v174L145 824.9c-2.8 7.4-4.3 15.2-4.3 23.1 0 35.3 28.7 64 64 64h614.6c7.9 0 15.7-1.5 23.1-4.3 33-12.7 49.4-49.8 36.6-82.8zM395.7 364.7V180h232.6v184.7L719.2 600c-20.7-5.3-42.1-8-63.9-8-61.2 0-119.2 21.5-165.3 60a188.78 188.78 0 0 1-121.3 43.9c-32.7 0-64.1-8.3-91.8-23.7l118.8-307.5zM210.5 844l41.7-107.8c35.7 18.1 75.4 27.8 116.6 27.8 61.2 0 119.2-21.5 165.3-60 33.9-28.2 76.3-43.9 121.3-43.9 35 0 68.4 9.5 97.6 27.1L813.5 844h-603z\"></path></svg></i></a></span>,\n",
       " <span class=\"jsx-3706651781\">13</span>,\n",
       " <span class=\"jsx-3706651781\">0</span>,\n",
       " <span class=\"jsx-3706651781\">0%</span>,\n",
       " <span class=\"jsx-3706651781\"><div class=\"jsx-3706651781 reference-button-container\"></div><div class=\"jsx-3706651781 reference-button-container\"></div></span>,\n",
       " <span class=\"jsx-3706651781\">Prince Edward Island<a class=\"jsx-3706651781\" href=\"/en/test?state=PE\" target=\"_blank\"><i aria-label=\"icon: experiment\" class=\"anticon anticon-experiment\"><svg aria-hidden=\"true\" class=\"\" data-icon=\"experiment\" fill=\"currentColor\" focusable=\"false\" height=\"1em\" viewbox=\"64 64 896 896\" width=\"1em\"><path d=\"M512 472a40 40 0 1 0 80 0 40 40 0 1 0-80 0zm367 352.9L696.3 352V178H768v-68H256v68h71.7v174L145 824.9c-2.8 7.4-4.3 15.2-4.3 23.1 0 35.3 28.7 64 64 64h614.6c7.9 0 15.7-1.5 23.1-4.3 33-12.7 49.4-49.8 36.6-82.8zM395.7 364.7V180h232.6v184.7L719.2 600c-20.7-5.3-42.1-8-63.9-8-61.2 0-119.2 21.5-165.3 60a188.78 188.78 0 0 1-121.3 43.9c-32.7 0-64.1-8.3-91.8-23.7l118.8-307.5zM210.5 844l41.7-107.8c35.7 18.1 75.4 27.8 116.6 27.8 61.2 0 119.2-21.5 165.3-60 33.9-28.2 76.3-43.9 121.3-43.9 35 0 68.4 9.5 97.6 27.1L813.5 844h-603z\"></path></svg></i></a></span>,\n",
       " <span class=\"jsx-3706651781\">5</span>,\n",
       " <span class=\"jsx-3706651781\">0</span>,\n",
       " <span class=\"jsx-3706651781\">0%</span>,\n",
       " <span class=\"jsx-3706651781\"><div class=\"jsx-3706651781 reference-button-container\"></div><div class=\"jsx-3706651781 reference-button-container\"></div></span>,\n",
       " <span class=\"jsx-3706651781\">Yukon<a class=\"jsx-3706651781\" href=\"/en/test?state=YT\" target=\"_blank\"><i aria-label=\"icon: experiment\" class=\"anticon anticon-experiment\"><svg aria-hidden=\"true\" class=\"\" data-icon=\"experiment\" fill=\"currentColor\" focusable=\"false\" height=\"1em\" viewbox=\"64 64 896 896\" width=\"1em\"><path d=\"M512 472a40 40 0 1 0 80 0 40 40 0 1 0-80 0zm367 352.9L696.3 352V178H768v-68H256v68h71.7v174L145 824.9c-2.8 7.4-4.3 15.2-4.3 23.1 0 35.3 28.7 64 64 64h614.6c7.9 0 15.7-1.5 23.1-4.3 33-12.7 49.4-49.8 36.6-82.8zM395.7 364.7V180h232.6v184.7L719.2 600c-20.7-5.3-42.1-8-63.9-8-61.2 0-119.2 21.5-165.3 60a188.78 188.78 0 0 1-121.3 43.9c-32.7 0-64.1-8.3-91.8-23.7l118.8-307.5zM210.5 844l41.7-107.8c35.7 18.1 75.4 27.8 116.6 27.8 61.2 0 119.2-21.5 165.3-60 33.9-28.2 76.3-43.9 121.3-43.9 35 0 68.4 9.5 97.6 27.1L813.5 844h-603z\"></path></svg></i></a></span>,\n",
       " <span class=\"jsx-3706651781\">3</span>,\n",
       " <span class=\"jsx-3706651781\">0</span>,\n",
       " <span class=\"jsx-3706651781\">0%</span>,\n",
       " <span class=\"jsx-3706651781\"><div class=\"jsx-3706651781 reference-button-container\"></div><div class=\"jsx-3706651781 reference-button-container\"></div></span>,\n",
       " <span class=\"jsx-3706651781\">Northwest Territories<a class=\"jsx-3706651781\" href=\"/en/test?state=NT\" target=\"_blank\"><i aria-label=\"icon: experiment\" class=\"anticon anticon-experiment\"><svg aria-hidden=\"true\" class=\"\" data-icon=\"experiment\" fill=\"currentColor\" focusable=\"false\" height=\"1em\" viewbox=\"64 64 896 896\" width=\"1em\"><path d=\"M512 472a40 40 0 1 0 80 0 40 40 0 1 0-80 0zm367 352.9L696.3 352V178H768v-68H256v68h71.7v174L145 824.9c-2.8 7.4-4.3 15.2-4.3 23.1 0 35.3 28.7 64 64 64h614.6c7.9 0 15.7-1.5 23.1-4.3 33-12.7 49.4-49.8 36.6-82.8zM395.7 364.7V180h232.6v184.7L719.2 600c-20.7-5.3-42.1-8-63.9-8-61.2 0-119.2 21.5-165.3 60a188.78 188.78 0 0 1-121.3 43.9c-32.7 0-64.1-8.3-91.8-23.7l118.8-307.5zM210.5 844l41.7-107.8c35.7 18.1 75.4 27.8 116.6 27.8 61.2 0 119.2-21.5 165.3-60 33.9-28.2 76.3-43.9 121.3-43.9 35 0 68.4 9.5 97.6 27.1L813.5 844h-603z\"></path></svg></i></a></span>,\n",
       " <span class=\"jsx-3706651781\">1</span>,\n",
       " <span class=\"jsx-3706651781\">0</span>,\n",
       " <span class=\"jsx-3706651781\">0%</span>,\n",
       " <span class=\"jsx-3706651781\"><div class=\"jsx-3706651781 reference-button-container\"></div><div class=\"jsx-3706651781 reference-button-container\"></div></span>,\n",
       " <span class=\"jsx-3706651781\">Diamond Princess<a class=\"jsx-3706651781\" href=\"/en/test?state=Diamond Princess\" target=\"_blank\"><i aria-label=\"icon: experiment\" class=\"anticon anticon-experiment\"><svg aria-hidden=\"true\" class=\"\" data-icon=\"experiment\" fill=\"currentColor\" focusable=\"false\" height=\"1em\" viewbox=\"64 64 896 896\" width=\"1em\"><path d=\"M512 472a40 40 0 1 0 80 0 40 40 0 1 0-80 0zm367 352.9L696.3 352V178H768v-68H256v68h71.7v174L145 824.9c-2.8 7.4-4.3 15.2-4.3 23.1 0 35.3 28.7 64 64 64h614.6c7.9 0 15.7-1.5 23.1-4.3 33-12.7 49.4-49.8 36.6-82.8zM395.7 364.7V180h232.6v184.7L719.2 600c-20.7-5.3-42.1-8-63.9-8-61.2 0-119.2 21.5-165.3 60a188.78 188.78 0 0 1-121.3 43.9c-32.7 0-64.1-8.3-91.8-23.7l118.8-307.5zM210.5 844l41.7-107.8c35.7 18.1 75.4 27.8 116.6 27.8 61.2 0 119.2-21.5 165.3-60 33.9-28.2 76.3-43.9 121.3-43.9 35 0 68.4 9.5 97.6 27.1L813.5 844h-603z\"></path></svg></i></a></span>,\n",
       " <span class=\"jsx-3706651781\">0</span>,\n",
       " <span class=\"jsx-3706651781\">1</span>,\n",
       " <span class=\"jsx-3706651781\">Infinity%</span>,\n",
       " <span class=\"jsx-3706651781\"><div class=\"jsx-3706651781 reference-button-container\"></div><div class=\"jsx-3706651781 reference-button-container\"></div></span>]"
      ]
     },
     "execution_count": 47,
     "metadata": {},
     "output_type": "execute_result"
    }
   ],
   "source": [
    "soup.find_all('span', class_='jsx-3706651781')"
   ]
  },
  {
   "cell_type": "code",
   "execution_count": null,
   "metadata": {},
   "outputs": [],
   "source": []
  }
 ],
 "metadata": {
  "kernelspec": {
   "display_name": "Python 3",
   "language": "python",
   "name": "python3"
  },
  "language_info": {
   "codemirror_mode": {
    "name": "ipython",
    "version": 3
   },
   "file_extension": ".py",
   "mimetype": "text/x-python",
   "name": "python",
   "nbconvert_exporter": "python",
   "pygments_lexer": "ipython3",
   "version": "3.6.9"
  },
  "toc": {
   "base_numbering": 1,
   "nav_menu": {},
   "number_sections": true,
   "sideBar": true,
   "skip_h1_title": false,
   "title_cell": "Table of Contents",
   "title_sidebar": "Contents",
   "toc_cell": false,
   "toc_position": {},
   "toc_section_display": true,
   "toc_window_display": false
  },
  "varInspector": {
   "cols": {
    "lenName": 16,
    "lenType": 16,
    "lenVar": 40
   },
   "kernels_config": {
    "python": {
     "delete_cmd_postfix": "",
     "delete_cmd_prefix": "del ",
     "library": "var_list.py",
     "varRefreshCmd": "print(var_dic_list())"
    },
    "r": {
     "delete_cmd_postfix": ") ",
     "delete_cmd_prefix": "rm(",
     "library": "var_list.r",
     "varRefreshCmd": "cat(var_dic_list()) "
    }
   },
   "types_to_exclude": [
    "module",
    "function",
    "builtin_function_or_method",
    "instance",
    "_Feature"
   ],
   "window_display": false
  }
 },
 "nbformat": 4,
 "nbformat_minor": 2
}
